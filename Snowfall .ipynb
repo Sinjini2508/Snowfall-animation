{
 "cells": [
  {
   "cell_type": "code",
   "execution_count": 1,
   "metadata": {},
   "outputs": [
    {
     "name": "stdout",
     "output_type": "stream",
     "text": [
      "pygame 1.9.6\n",
      "Hello from the pygame community. https://www.pygame.org/contribute.html\n"
     ]
    }
   ],
   "source": [
    "import pygame\n",
    "import random\n",
    "\n",
    "pygame.init()\n",
    "\n",
    "WHITE = [255, 255, 255]\n",
    "BACKGROUND = [100, 50, 255]\n",
    "SIZE = [600, 600]\n",
    "\n",
    "screen = pygame.display.set_mode(SIZE)\n",
    "pygame.display.set_caption(\"Snowfall!\")\n",
    "\n",
    "snowFall = []\n",
    "for i in range(50):\n",
    "    x = random.randrange(0, 600)\n",
    "    y = random.randrange(0, 600)\n",
    "    snowFall.append([x, y])\n",
    "\n",
    "clock = pygame.time.Clock()\n",
    "done = False\n",
    "while not done:\n",
    "    for event in pygame.event.get():\n",
    "        if event.type == pygame.QUIT:\n",
    "            done = True\n",
    "    screen.fill(BACKGROUND)\n",
    "    for i in range(len(snowFall)):\n",
    "        pygame.draw.circle(screen, WHITE, snowFall[i], 4)\n",
    "        snowFall[i][1] += 1\n",
    "        if snowFall[i][1] > 600:\n",
    "            y = random.randrange(-50, -10)\n",
    "            snowFall[i][1] = y\n",
    "\n",
    "            x = random.randrange(0, 600)\n",
    "            snowFall[i][0] = x\n",
    "#    image = pygame.image.load(\"tree.png\")  #Find an appropriate tree image\n",
    "#    screen.blit(image, (20, 20))\n",
    "    pygame.display.flip()\n",
    "    clock.tick(20)\n",
    "pygame.quit()"
   ]
  },
  {
   "cell_type": "code",
   "execution_count": null,
   "metadata": {},
   "outputs": [],
   "source": []
  }
 ],
 "metadata": {
  "kernelspec": {
   "display_name": "Python 3",
   "language": "python",
   "name": "python3"
  },
  "language_info": {
   "codemirror_mode": {
    "name": "ipython",
    "version": 3
   },
   "file_extension": ".py",
   "mimetype": "text/x-python",
   "name": "python",
   "nbconvert_exporter": "python",
   "pygments_lexer": "ipython3",
   "version": "3.7.4"
  }
 },
 "nbformat": 4,
 "nbformat_minor": 2
}
